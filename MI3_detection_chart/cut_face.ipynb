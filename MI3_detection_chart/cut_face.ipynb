{
 "cells": [
  {
   "cell_type": "code",
   "execution_count": 9,
   "metadata": {},
   "outputs": [],
   "source": [
    "import cv2\n",
    "import csv\n",
    "import os\n",
    "\n",
    "input_face_file = '/home/superorange5/MI3_Detection_Chart/result_collect/faster-rcnn_face9_Pathway1_1.txt'\n",
    "channel=2\n",
    "image_folder_path = '/home/superorange5/MI3/Pathway1_1/ORIG/ch'+str(channel)\n",
    "output_folder_path = '/home/superorange5/MI3/face_cut/Pathway1_1/ch'+str(channel)\n",
    "\n",
    "if not os.path.exists(output_folder_path):\n",
    "        os.makedirs(output_folder_path)\n",
    "        \n",
    "        \n",
    "with open(input_face_file, 'rb') as csvfile:\n",
    "    rows = csv.reader(csvfile)\n",
    "    for row in rows:        \n",
    "        channel_idx = int(row[0])        \n",
    "        if(channel_idx == channel):\n",
    "            frame_num = row[1]\n",
    "            confidence = row[6]\n",
    "            startX = int(float(row[2]))\n",
    "            startY = int(float(row[3]))\n",
    "            endX = int(float(row[4]))\n",
    "            endY = int(float(row[5]))\n",
    "\n",
    "            img_path = os.path.join(image_folder_path,frame_num+'.bmp')\n",
    "            img = cv2.imread(img_path)\n",
    "\n",
    "            crop_img = img[startY:endY,startX:endX]\n",
    "            output_image_path = os.path.join(output_folder_path,frame_num+'.jpg')\n",
    "            cv2.imwrite(output_image_path, crop_img)\n",
    "        \n",
    "csvfile.close()"
   ]
  },
  {
   "cell_type": "code",
   "execution_count": null,
   "metadata": {},
   "outputs": [],
   "source": []
  }
 ],
 "metadata": {
  "kernelspec": {
   "display_name": "Python 2",
   "language": "python",
   "name": "python2"
  },
  "language_info": {
   "codemirror_mode": {
    "name": "ipython",
    "version": 2
   },
   "file_extension": ".py",
   "mimetype": "text/x-python",
   "name": "python",
   "nbconvert_exporter": "python",
   "pygments_lexer": "ipython2",
   "version": "2.7.12"
  },
  "pycharm": {
   "stem_cell": {
    "cell_type": "raw",
    "source": [],
    "metadata": {
     "collapsed": false
    }
   }
  }
 },
 "nbformat": 4,
 "nbformat_minor": 2
}